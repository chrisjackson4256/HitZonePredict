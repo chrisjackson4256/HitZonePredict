{
 "cells": [
  {
   "cell_type": "markdown",
   "metadata": {},
   "source": [
    "# Game of Zones: Using ML to Predict the Outcome of an MLB At Bat\n",
    "\n",
    "Goal: predict where the batter is most likely to hit the ball (zones of the field) in an at-bat given the situation and the pitcher he is facing\n",
    "    \n",
    "Input Data: \n",
    "- the pitcher's repertoire: given that each pitcher has a different arsenal of pitches and each pitch moves differently, we use a cluster analysis to categorize pitch types.  In this way, we put each pitcher on the same footing.\n",
    "\n",
    "- pitcher stats such as groundball and flyball rates\n",
    "\n",
    "- the game situation: the inning (and top/bottom), the number of outs, positions of baserunners, the count, positions of fielders(?)\n",
    "\n",
    "- the batter's priors: distribution of batted balls into zones\n",
    "\n",
    "- any other batter data?\n",
    "\n",
    "Output: \n",
    "- probabilities for each zone on the field where the batter can hit the ball\n",
    "\n",
    "- contributing factors for each prediction (things the defensive team could use to intervene)"
   ]
  },
  {
   "cell_type": "code",
   "execution_count": 12,
   "metadata": {},
   "outputs": [
    {
     "name": "stdout",
     "output_type": "stream",
     "text": [
      "The autoreload extension is already loaded. To reload it, use:\n",
      "  %reload_ext autoreload\n"
     ]
    }
   ],
   "source": [
    "%load_ext autoreload\n",
    "%autoreload 2\n",
    "from pybaseball import statcast\n",
    "import numpy as np\n",
    "import pandas as pd\n",
    "from sklearn.preprocessing import StandardScaler, MinMaxScaler, OneHotEncoder\n",
    "from sklearn.decomposition import PCA\n",
    "from sklearn.cluster import KMeans\n",
    "from sklearn.model_selection import train_test_split, GridSearchCV\n",
    "from sklearn.metrics import accuracy_score, confusion_matrix\n",
    "from xgboost import XGBClassifier\n",
    "import matplotlib.pyplot as plt\n",
    "from matplotlib import patches\n",
    "%matplotlib inline\n",
    "\n",
    "from get_data import get_data, get_hit_zone, get_pitch_data, get_situation_data\n",
    "from pitch_clustering import pitch_clustering\n",
    "from batter_zone import get_batter_zone_data\n",
    "\n",
    "# use Statcast data (from 2015-2018) so we can get spin rate, etc.\n",
    "train_data_dates = [('2015-04-05', '2015-10-04')] #,      # 2015 data\n",
    "#                     ('2016-04-03', '2016-10-02'),       # 2016 data\n",
    "#                     ('2017-04-02', '2017-10-01'),       # 2017 data\n",
    "#                     ('2018-03-29', '2018-10-01')]       # 2018 data"
   ]
  },
  {
   "cell_type": "markdown",
   "metadata": {},
   "source": [
    "### Build the Outcome"
   ]
  },
  {
   "cell_type": "code",
   "execution_count": 2,
   "metadata": {},
   "outputs": [
    {
     "name": "stdout",
     "output_type": "stream",
     "text": [
      "This is a large query, it may take a moment to complete\n",
      "Shape of the outcome data: (87199, 5)\n"
     ]
    },
    {
     "data": {
      "text/html": [
       "<div>\n",
       "<style scoped>\n",
       "    .dataframe tbody tr th:only-of-type {\n",
       "        vertical-align: middle;\n",
       "    }\n",
       "\n",
       "    .dataframe tbody tr th {\n",
       "        vertical-align: top;\n",
       "    }\n",
       "\n",
       "    .dataframe thead th {\n",
       "        text-align: right;\n",
       "    }\n",
       "</style>\n",
       "<table border=\"1\" class=\"dataframe\">\n",
       "  <thead>\n",
       "    <tr style=\"text-align: right;\">\n",
       "      <th></th>\n",
       "      <th>game_pk</th>\n",
       "      <th>index</th>\n",
       "      <th>batter</th>\n",
       "      <th>pitcher</th>\n",
       "      <th>hit_zone</th>\n",
       "    </tr>\n",
       "  </thead>\n",
       "  <tbody>\n",
       "    <tr>\n",
       "      <th>0</th>\n",
       "      <td>416079</td>\n",
       "      <td>247</td>\n",
       "      <td>150029</td>\n",
       "      <td>544727</td>\n",
       "      <td>4</td>\n",
       "    </tr>\n",
       "    <tr>\n",
       "      <th>2</th>\n",
       "      <td>416079</td>\n",
       "      <td>262</td>\n",
       "      <td>547180</td>\n",
       "      <td>544727</td>\n",
       "      <td>2</td>\n",
       "    </tr>\n",
       "    <tr>\n",
       "      <th>10</th>\n",
       "      <td>416079</td>\n",
       "      <td>341</td>\n",
       "      <td>543685</td>\n",
       "      <td>544727</td>\n",
       "      <td>1</td>\n",
       "    </tr>\n",
       "    <tr>\n",
       "      <th>15</th>\n",
       "      <td>416079</td>\n",
       "      <td>404</td>\n",
       "      <td>502517</td>\n",
       "      <td>595014</td>\n",
       "      <td>2</td>\n",
       "    </tr>\n",
       "    <tr>\n",
       "      <th>24</th>\n",
       "      <td>416079</td>\n",
       "      <td>519</td>\n",
       "      <td>434158</td>\n",
       "      <td>595014</td>\n",
       "      <td>4</td>\n",
       "    </tr>\n",
       "  </tbody>\n",
       "</table>\n",
       "</div>"
      ],
      "text/plain": [
       "    game_pk  index  batter  pitcher  hit_zone\n",
       "0    416079    247  150029   544727         4\n",
       "2    416079    262  547180   544727         2\n",
       "10   416079    341  543685   544727         1\n",
       "15   416079    404  502517   595014         2\n",
       "24   416079    519  434158   595014         4"
      ]
     },
     "execution_count": 2,
     "metadata": {},
     "output_type": "execute_result"
    }
   ],
   "source": [
    "# get the outcome data\n",
    "outcome_data = get_data(get_hit_zone, train_data_dates)\n",
    "\n",
    "# write to file\n",
    "outcome_data.to_csv(\"./outcome.csv\", index=False)\n",
    "\n",
    "print(f\"Shape of the outcome data: {outcome_data.shape}\")\n",
    "outcome_data.head()"
   ]
  },
  {
   "cell_type": "markdown",
   "metadata": {},
   "source": [
    "### Build the Pitcher Data"
   ]
  },
  {
   "cell_type": "code",
   "execution_count": null,
   "metadata": {},
   "outputs": [
    {
     "name": "stdout",
     "output_type": "stream",
     "text": [
      "This is a large query, it may take a moment to complete\n"
     ]
    }
   ],
   "source": [
    "# get the outcome data\n",
    "pitch_data = get_data(get_pitch_data, train_data_dates)\n",
    "\n",
    "# write to file\n",
    "pitch_data.to_csv(\"./pitch.csv\", index=False)\n",
    "\n",
    "# print the number of pitchers in the data set\n",
    "print(f\"Number of pitchers in the data: {len(pitch_data['pitcher'].unique())}\")\n",
    "\n",
    "print(f\"Shape of training data: {pitch_data.shape}\")\n",
    "\n",
    "pitch_data.head()"
   ]
  },
  {
   "cell_type": "markdown",
   "metadata": {},
   "source": [
    "### Build the Batter's Prior Zone Distribution"
   ]
  },
  {
   "cell_type": "code",
   "execution_count": 8,
   "metadata": {},
   "outputs": [
    {
     "name": "stdout",
     "output_type": "stream",
     "text": [
      "(865, 5)\n"
     ]
    },
    {
     "data": {
      "text/html": [
       "<div>\n",
       "<style scoped>\n",
       "    .dataframe tbody tr th:only-of-type {\n",
       "        vertical-align: middle;\n",
       "    }\n",
       "\n",
       "    .dataframe tbody tr th {\n",
       "        vertical-align: top;\n",
       "    }\n",
       "\n",
       "    .dataframe thead th {\n",
       "        text-align: right;\n",
       "    }\n",
       "</style>\n",
       "<table border=\"1\" class=\"dataframe\">\n",
       "  <thead>\n",
       "    <tr style=\"text-align: right;\">\n",
       "      <th></th>\n",
       "      <th>batter</th>\n",
       "      <th>batter_zone_1</th>\n",
       "      <th>batter_zone_2</th>\n",
       "      <th>batter_zone_3</th>\n",
       "      <th>batter_zone_4</th>\n",
       "    </tr>\n",
       "  </thead>\n",
       "  <tbody>\n",
       "    <tr>\n",
       "      <th>0</th>\n",
       "      <td>112526</td>\n",
       "      <td>0.105263</td>\n",
       "      <td>0.421053</td>\n",
       "      <td>0.263158</td>\n",
       "      <td>0.210526</td>\n",
       "    </tr>\n",
       "    <tr>\n",
       "      <th>1</th>\n",
       "      <td>116338</td>\n",
       "      <td>0.114094</td>\n",
       "      <td>0.278523</td>\n",
       "      <td>0.342282</td>\n",
       "      <td>0.265101</td>\n",
       "    </tr>\n",
       "    <tr>\n",
       "      <th>2</th>\n",
       "      <td>120074</td>\n",
       "      <td>0.249240</td>\n",
       "      <td>0.024316</td>\n",
       "      <td>0.416413</td>\n",
       "      <td>0.310030</td>\n",
       "    </tr>\n",
       "    <tr>\n",
       "      <th>3</th>\n",
       "      <td>121347</td>\n",
       "      <td>0.056738</td>\n",
       "      <td>0.319149</td>\n",
       "      <td>0.283688</td>\n",
       "      <td>0.340426</td>\n",
       "    </tr>\n",
       "    <tr>\n",
       "      <th>4</th>\n",
       "      <td>133380</td>\n",
       "      <td>0.061290</td>\n",
       "      <td>0.232258</td>\n",
       "      <td>0.367742</td>\n",
       "      <td>0.338710</td>\n",
       "    </tr>\n",
       "  </tbody>\n",
       "</table>\n",
       "</div>"
      ],
      "text/plain": [
       "   batter  batter_zone_1  batter_zone_2  batter_zone_3  batter_zone_4\n",
       "0  112526       0.105263       0.421053       0.263158       0.210526\n",
       "1  116338       0.114094       0.278523       0.342282       0.265101\n",
       "2  120074       0.249240       0.024316       0.416413       0.310030\n",
       "3  121347       0.056738       0.319149       0.283688       0.340426\n",
       "4  133380       0.061290       0.232258       0.367742       0.338710"
      ]
     },
     "execution_count": 8,
     "metadata": {},
     "output_type": "execute_result"
    }
   ],
   "source": [
    "# use the hit zone data from the outcome (calculated above)\n",
    "batter_zone_data = pd.read_csv(\"./outcome.csv\")\n",
    "\n",
    "batter_zone_data_pct = get_batter_zone_data(batter_zone_data)\n",
    "\n",
    "batter_zone_data_pct.to_csv(\"./batter_zones.csv\", index=False)\n",
    "\n",
    "print(batter_zone_data_pct.shape)\n",
    "batter_zone_data_pct.head()"
   ]
  },
  {
   "cell_type": "markdown",
   "metadata": {},
   "source": [
    "### Get the Game Situation Features"
   ]
  },
  {
   "cell_type": "code",
   "execution_count": 13,
   "metadata": {},
   "outputs": [
    {
     "name": "stdout",
     "output_type": "stream",
     "text": [
      "This is a large query, it may take a moment to complete\n",
      "(101234, 14)\n"
     ]
    },
    {
     "data": {
      "text/html": [
       "<div>\n",
       "<style scoped>\n",
       "    .dataframe tbody tr th:only-of-type {\n",
       "        vertical-align: middle;\n",
       "    }\n",
       "\n",
       "    .dataframe tbody tr th {\n",
       "        vertical-align: top;\n",
       "    }\n",
       "\n",
       "    .dataframe thead th {\n",
       "        text-align: right;\n",
       "    }\n",
       "</style>\n",
       "<table border=\"1\" class=\"dataframe\">\n",
       "  <thead>\n",
       "    <tr style=\"text-align: right;\">\n",
       "      <th></th>\n",
       "      <th>game_pk</th>\n",
       "      <th>index</th>\n",
       "      <th>batter</th>\n",
       "      <th>pitcher</th>\n",
       "      <th>balls</th>\n",
       "      <th>strikes</th>\n",
       "      <th>outs_when_up</th>\n",
       "      <th>inning</th>\n",
       "      <th>on_1b</th>\n",
       "      <th>on_2b</th>\n",
       "      <th>on_3b</th>\n",
       "      <th>bat_right</th>\n",
       "      <th>pitch_right</th>\n",
       "      <th>score_diff</th>\n",
       "    </tr>\n",
       "  </thead>\n",
       "  <tbody>\n",
       "    <tr>\n",
       "      <th>0</th>\n",
       "      <td>416079</td>\n",
       "      <td>247</td>\n",
       "      <td>150029</td>\n",
       "      <td>544727</td>\n",
       "      <td>0.0</td>\n",
       "      <td>1.0</td>\n",
       "      <td>2.0</td>\n",
       "      <td>9.0</td>\n",
       "      <td>False</td>\n",
       "      <td>True</td>\n",
       "      <td>False</td>\n",
       "      <td>True</td>\n",
       "      <td>True</td>\n",
       "      <td>-1.0</td>\n",
       "    </tr>\n",
       "    <tr>\n",
       "      <th>2</th>\n",
       "      <td>416079</td>\n",
       "      <td>262</td>\n",
       "      <td>547180</td>\n",
       "      <td>544727</td>\n",
       "      <td>0.0</td>\n",
       "      <td>0.0</td>\n",
       "      <td>2.0</td>\n",
       "      <td>9.0</td>\n",
       "      <td>False</td>\n",
       "      <td>False</td>\n",
       "      <td>False</td>\n",
       "      <td>False</td>\n",
       "      <td>True</td>\n",
       "      <td>-1.0</td>\n",
       "    </tr>\n",
       "    <tr>\n",
       "      <th>10</th>\n",
       "      <td>416079</td>\n",
       "      <td>341</td>\n",
       "      <td>543685</td>\n",
       "      <td>544727</td>\n",
       "      <td>3.0</td>\n",
       "      <td>1.0</td>\n",
       "      <td>0.0</td>\n",
       "      <td>9.0</td>\n",
       "      <td>False</td>\n",
       "      <td>False</td>\n",
       "      <td>False</td>\n",
       "      <td>True</td>\n",
       "      <td>True</td>\n",
       "      <td>-1.0</td>\n",
       "    </tr>\n",
       "    <tr>\n",
       "      <th>15</th>\n",
       "      <td>416079</td>\n",
       "      <td>404</td>\n",
       "      <td>502517</td>\n",
       "      <td>595014</td>\n",
       "      <td>2.0</td>\n",
       "      <td>1.0</td>\n",
       "      <td>1.0</td>\n",
       "      <td>8.0</td>\n",
       "      <td>True</td>\n",
       "      <td>False</td>\n",
       "      <td>False</td>\n",
       "      <td>False</td>\n",
       "      <td>True</td>\n",
       "      <td>1.0</td>\n",
       "    </tr>\n",
       "    <tr>\n",
       "      <th>24</th>\n",
       "      <td>416079</td>\n",
       "      <td>519</td>\n",
       "      <td>434158</td>\n",
       "      <td>595014</td>\n",
       "      <td>2.0</td>\n",
       "      <td>1.0</td>\n",
       "      <td>1.0</td>\n",
       "      <td>8.0</td>\n",
       "      <td>False</td>\n",
       "      <td>False</td>\n",
       "      <td>False</td>\n",
       "      <td>False</td>\n",
       "      <td>True</td>\n",
       "      <td>0.0</td>\n",
       "    </tr>\n",
       "  </tbody>\n",
       "</table>\n",
       "</div>"
      ],
      "text/plain": [
       "    game_pk  index  batter  pitcher  balls  strikes  outs_when_up  inning  \\\n",
       "0    416079    247  150029   544727    0.0      1.0           2.0     9.0   \n",
       "2    416079    262  547180   544727    0.0      0.0           2.0     9.0   \n",
       "10   416079    341  543685   544727    3.0      1.0           0.0     9.0   \n",
       "15   416079    404  502517   595014    2.0      1.0           1.0     8.0   \n",
       "24   416079    519  434158   595014    2.0      1.0           1.0     8.0   \n",
       "\n",
       "    on_1b  on_2b  on_3b  bat_right  pitch_right  score_diff  \n",
       "0   False   True  False       True         True        -1.0  \n",
       "2   False  False  False      False         True        -1.0  \n",
       "10  False  False  False       True         True        -1.0  \n",
       "15   True  False  False      False         True         1.0  \n",
       "24  False  False  False      False         True         0.0  "
      ]
     },
     "execution_count": 13,
     "metadata": {},
     "output_type": "execute_result"
    }
   ],
   "source": [
    "situation_data = get_data(get_situation_data, train_data_dates)\n",
    "\n",
    "# write to file\n",
    "situation_data.to_csv(\"./situation.csv\", index=False)\n",
    "\n",
    "print(situation_data.shape)\n",
    "situation_data.head()"
   ]
  },
  {
   "cell_type": "markdown",
   "metadata": {},
   "source": [
    "### Combine the Game Situation, Pitcher and Batter Features along with the Outcome"
   ]
  },
  {
   "cell_type": "code",
   "execution_count": null,
   "metadata": {},
   "outputs": [],
   "source": [
    "game_situation_df = pd.read_csv(\"./situation.csv\")\n",
    "\n",
    "pitch_type_df = pd.read_csv(\"./pitch_types.csv\")\n",
    "pitch_type_df.drop('player_name', axis=1, inplace=True)\n",
    "pitch_type_df['pitcher'] = pitch_type_df['pitcher'].astype(int)\n",
    "\n",
    "batter_zone_df = pd.read_csv(\"./batter_zones.csv\")\n",
    "\n",
    "outcome_df = pd.read_csv(\"/home/chris/data/baseball/HitZone/train_4zones.csv\")\n",
    "\n",
    "full_data = pd.merge(game_situation_df, pitch_type_df, on=\"pitcher\")\n",
    "full_data = pd.merge(full_data, batter_zone_df, on=\"batter\")\n",
    "full_data = pd.merge(outcome_df, full_data, on=['game_pk', 'index', 'batter', 'pitcher'])\n",
    "\n",
    "print(full_data.shape)\n",
    "full_data.head()"
   ]
  },
  {
   "cell_type": "code",
   "execution_count": null,
   "metadata": {},
   "outputs": [],
   "source": [
    "full_data = full_data.drop(['game_pk', 'index', 'batter', 'pitcher'], axis=1)\n",
    "\n",
    "# split the dataframe into a feature set and an outcome column\n",
    "X = full_data.drop('hit_zone', axis=1)\n",
    "y = full_data['hit_zone']\n",
    "\n",
    "# split the data into train/test sets\n",
    "X_train, X_test, y_train, y_test = train_test_split(X, y, test_size=0.3, random_state=4256)"
   ]
  },
  {
   "cell_type": "code",
   "execution_count": null,
   "metadata": {},
   "outputs": [],
   "source": [
    "# ----------------------\n",
    "# train an XGBoost model\n",
    "# ----------------------\n",
    "\n",
    "# small set of hyperparameters to optimize over\n",
    "xgb_params = {\"max_depth\": (3, 5, 10, 15, 20),\n",
    "              \"learning_rate\": (0.01, 0.5, 0.1, 0.2, 0.4),\n",
    "              \"gamma\": (0, 33, 66, 100),\n",
    "              \"min_child_weight\": (0, 33, 66, 100),\n",
    "              \"colsample_bytree\": (0.5, 0.75, 1),\n",
    "              \"subsample\": (0.5, 0.75, 1),}\n",
    "\n",
    "# perform the paramater grid search using 5-fold cross validation\n",
    "xgb_opt = GridSearchCV(XGBClassifier(objective='multi:softprob', num_class=4), \n",
    "                       param_grid=xgb_params, cv=5, scoring='accuracy', verbose=2, n_jobs=-1)\n",
    "\n",
    "#xgb_opt = XGBClassifier(objective='multi:softprob', num_class=4)\n",
    "\n",
    "# perform fit and make predictions\n",
    "xgb_opt.fit(X_train, y_train)\n",
    "y_pred = xgb_opt.predict(X_test)\n",
    "y_prob = xgb_opt.predict_proba(X_test)\n",
    "\n",
    "# compute accuracy\n",
    "accuracy = round(accuracy_score(y_test, y_pred) * 100, 1)\n",
    "\n",
    "# print the confusion matrix\n",
    "print(confusion_matrix(y_test, y_pred))"
   ]
  },
  {
   "cell_type": "code",
   "execution_count": null,
   "metadata": {},
   "outputs": [],
   "source": [
    "accuracy"
   ]
  },
  {
   "cell_type": "code",
   "execution_count": null,
   "metadata": {},
   "outputs": [],
   "source": [
    "features = X_train.columns.tolist()\n",
    "importances = list(xgb_opt.feature_importances_)\n",
    "for i in range(len(features)):\n",
    "    print(features[i] + \"\\t\" + str(importances[i] * 100.))"
   ]
  },
  {
   "cell_type": "code",
   "execution_count": null,
   "metadata": {},
   "outputs": [],
   "source": []
  }
 ],
 "metadata": {
  "kernelspec": {
   "display_name": "Python 3",
   "language": "python",
   "name": "python3"
  },
  "language_info": {
   "codemirror_mode": {
    "name": "ipython",
    "version": 3
   },
   "file_extension": ".py",
   "mimetype": "text/x-python",
   "name": "python",
   "nbconvert_exporter": "python",
   "pygments_lexer": "ipython3",
   "version": "3.6.7"
  }
 },
 "nbformat": 4,
 "nbformat_minor": 2
}
